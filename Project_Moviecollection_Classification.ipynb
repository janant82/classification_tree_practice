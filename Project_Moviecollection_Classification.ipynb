{
  "nbformat": 4,
  "nbformat_minor": 0,
  "metadata": {
    "colab": {
      "name": "Project_Moviecollection_Classification.ipynb",
      "provenance": [],
      "authorship_tag": "ABX9TyNdhmJIwqLIJDldbOyk2y9j",
      "include_colab_link": true
    },
    "kernelspec": {
      "name": "python3",
      "display_name": "Python 3"
    }
  },
  "cells": [
    {
      "cell_type": "markdown",
      "metadata": {
        "id": "view-in-github",
        "colab_type": "text"
      },
      "source": [
        "<a href=\"https://colab.research.google.com/github/karthikchary/classification_tree_practice/blob/master/Project_Moviecollection_Classification.ipynb\" target=\"_parent\"><img src=\"https://colab.research.google.com/assets/colab-badge.svg\" alt=\"Open In Colab\"/></a>"
      ]
    },
    {
      "cell_type": "code",
      "metadata": {
        "id": "hXErN9SS3BAA",
        "colab_type": "code",
        "colab": {
          "base_uri": "https://localhost:8080/",
          "height": 71
        },
        "outputId": "4124545b-4d00-4479-c95d-e7cb999f3bfe"
      },
      "source": [
        "import numpy as np\n",
        "import pandas as pd\n",
        "import seaborn as sns\n",
        "import matplotlib.pyplot as plt"
      ],
      "execution_count": 1,
      "outputs": [
        {
          "output_type": "stream",
          "text": [
            "/usr/local/lib/python3.6/dist-packages/statsmodels/tools/_testing.py:19: FutureWarning: pandas.util.testing is deprecated. Use the functions in the public API at pandas.testing instead.\n",
            "  import pandas.util.testing as tm\n"
          ],
          "name": "stderr"
        }
      ]
    },
    {
      "cell_type": "code",
      "metadata": {
        "id": "UFiSDG4i3KN7",
        "colab_type": "code",
        "colab": {}
      },
      "source": [
        "df = pd.read_csv('Movie_classification.csv',header=0)"
      ],
      "execution_count": 2,
      "outputs": []
    },
    {
      "cell_type": "code",
      "metadata": {
        "id": "tEID-mfN3ZFw",
        "colab_type": "code",
        "colab": {
          "base_uri": "https://localhost:8080/",
          "height": 241
        },
        "outputId": "1827aa09-b009-4a09-987a-02397e6a4fb6"
      },
      "source": [
        "df.head()"
      ],
      "execution_count": 3,
      "outputs": [
        {
          "output_type": "execute_result",
          "data": {
            "text/html": [
              "<div>\n",
              "<style scoped>\n",
              "    .dataframe tbody tr th:only-of-type {\n",
              "        vertical-align: middle;\n",
              "    }\n",
              "\n",
              "    .dataframe tbody tr th {\n",
              "        vertical-align: top;\n",
              "    }\n",
              "\n",
              "    .dataframe thead th {\n",
              "        text-align: right;\n",
              "    }\n",
              "</style>\n",
              "<table border=\"1\" class=\"dataframe\">\n",
              "  <thead>\n",
              "    <tr style=\"text-align: right;\">\n",
              "      <th></th>\n",
              "      <th>Marketing expense</th>\n",
              "      <th>Production expense</th>\n",
              "      <th>Multiplex coverage</th>\n",
              "      <th>Budget</th>\n",
              "      <th>Movie_length</th>\n",
              "      <th>Lead_ Actor_Rating</th>\n",
              "      <th>Lead_Actress_rating</th>\n",
              "      <th>Director_rating</th>\n",
              "      <th>Producer_rating</th>\n",
              "      <th>Critic_rating</th>\n",
              "      <th>Trailer_views</th>\n",
              "      <th>3D_available</th>\n",
              "      <th>Time_taken</th>\n",
              "      <th>Twitter_hastags</th>\n",
              "      <th>Genre</th>\n",
              "      <th>Avg_age_actors</th>\n",
              "      <th>Num_multiplex</th>\n",
              "      <th>Collection</th>\n",
              "      <th>Start_Tech_Oscar</th>\n",
              "    </tr>\n",
              "  </thead>\n",
              "  <tbody>\n",
              "    <tr>\n",
              "      <th>0</th>\n",
              "      <td>20.1264</td>\n",
              "      <td>59.62</td>\n",
              "      <td>0.462</td>\n",
              "      <td>36524.125</td>\n",
              "      <td>138.7</td>\n",
              "      <td>7.825</td>\n",
              "      <td>8.095</td>\n",
              "      <td>7.910</td>\n",
              "      <td>7.995</td>\n",
              "      <td>7.94</td>\n",
              "      <td>527367</td>\n",
              "      <td>YES</td>\n",
              "      <td>109.60</td>\n",
              "      <td>223.840</td>\n",
              "      <td>Thriller</td>\n",
              "      <td>23</td>\n",
              "      <td>494</td>\n",
              "      <td>48000</td>\n",
              "      <td>1</td>\n",
              "    </tr>\n",
              "    <tr>\n",
              "      <th>1</th>\n",
              "      <td>20.5462</td>\n",
              "      <td>69.14</td>\n",
              "      <td>0.531</td>\n",
              "      <td>35668.655</td>\n",
              "      <td>152.4</td>\n",
              "      <td>7.505</td>\n",
              "      <td>7.650</td>\n",
              "      <td>7.440</td>\n",
              "      <td>7.470</td>\n",
              "      <td>7.44</td>\n",
              "      <td>494055</td>\n",
              "      <td>NO</td>\n",
              "      <td>146.64</td>\n",
              "      <td>243.456</td>\n",
              "      <td>Drama</td>\n",
              "      <td>42</td>\n",
              "      <td>462</td>\n",
              "      <td>43200</td>\n",
              "      <td>0</td>\n",
              "    </tr>\n",
              "    <tr>\n",
              "      <th>2</th>\n",
              "      <td>20.5458</td>\n",
              "      <td>69.14</td>\n",
              "      <td>0.531</td>\n",
              "      <td>39912.675</td>\n",
              "      <td>134.6</td>\n",
              "      <td>7.485</td>\n",
              "      <td>7.570</td>\n",
              "      <td>7.495</td>\n",
              "      <td>7.515</td>\n",
              "      <td>7.44</td>\n",
              "      <td>547051</td>\n",
              "      <td>NO</td>\n",
              "      <td>147.88</td>\n",
              "      <td>2022.400</td>\n",
              "      <td>Comedy</td>\n",
              "      <td>38</td>\n",
              "      <td>458</td>\n",
              "      <td>69400</td>\n",
              "      <td>1</td>\n",
              "    </tr>\n",
              "    <tr>\n",
              "      <th>3</th>\n",
              "      <td>20.6474</td>\n",
              "      <td>59.36</td>\n",
              "      <td>0.542</td>\n",
              "      <td>38873.890</td>\n",
              "      <td>119.3</td>\n",
              "      <td>6.895</td>\n",
              "      <td>7.035</td>\n",
              "      <td>6.920</td>\n",
              "      <td>7.020</td>\n",
              "      <td>8.26</td>\n",
              "      <td>516279</td>\n",
              "      <td>YES</td>\n",
              "      <td>185.36</td>\n",
              "      <td>225.344</td>\n",
              "      <td>Drama</td>\n",
              "      <td>45</td>\n",
              "      <td>472</td>\n",
              "      <td>66800</td>\n",
              "      <td>1</td>\n",
              "    </tr>\n",
              "    <tr>\n",
              "      <th>4</th>\n",
              "      <td>21.3810</td>\n",
              "      <td>59.36</td>\n",
              "      <td>0.542</td>\n",
              "      <td>39701.585</td>\n",
              "      <td>127.7</td>\n",
              "      <td>6.920</td>\n",
              "      <td>7.070</td>\n",
              "      <td>6.815</td>\n",
              "      <td>7.070</td>\n",
              "      <td>8.26</td>\n",
              "      <td>531448</td>\n",
              "      <td>NO</td>\n",
              "      <td>176.48</td>\n",
              "      <td>225.792</td>\n",
              "      <td>Drama</td>\n",
              "      <td>55</td>\n",
              "      <td>395</td>\n",
              "      <td>72400</td>\n",
              "      <td>1</td>\n",
              "    </tr>\n",
              "  </tbody>\n",
              "</table>\n",
              "</div>"
            ],
            "text/plain": [
              "   Marketing expense  Production expense  ...  Collection  Start_Tech_Oscar\n",
              "0            20.1264               59.62  ...       48000                 1\n",
              "1            20.5462               69.14  ...       43200                 0\n",
              "2            20.5458               69.14  ...       69400                 1\n",
              "3            20.6474               59.36  ...       66800                 1\n",
              "4            21.3810               59.36  ...       72400                 1\n",
              "\n",
              "[5 rows x 19 columns]"
            ]
          },
          "metadata": {
            "tags": []
          },
          "execution_count": 3
        }
      ]
    },
    {
      "cell_type": "code",
      "metadata": {
        "id": "3osZV3fw3fM-",
        "colab_type": "code",
        "colab": {
          "base_uri": "https://localhost:8080/",
          "height": 459
        },
        "outputId": "645903ce-46ba-4dc2-9b0a-667a9ed30350"
      },
      "source": [
        "df.info()"
      ],
      "execution_count": 4,
      "outputs": [
        {
          "output_type": "stream",
          "text": [
            "<class 'pandas.core.frame.DataFrame'>\n",
            "RangeIndex: 506 entries, 0 to 505\n",
            "Data columns (total 19 columns):\n",
            " #   Column               Non-Null Count  Dtype  \n",
            "---  ------               --------------  -----  \n",
            " 0   Marketing expense    506 non-null    float64\n",
            " 1   Production expense   506 non-null    float64\n",
            " 2   Multiplex coverage   506 non-null    float64\n",
            " 3   Budget               506 non-null    float64\n",
            " 4   Movie_length         506 non-null    float64\n",
            " 5   Lead_ Actor_Rating   506 non-null    float64\n",
            " 6   Lead_Actress_rating  506 non-null    float64\n",
            " 7   Director_rating      506 non-null    float64\n",
            " 8   Producer_rating      506 non-null    float64\n",
            " 9   Critic_rating        506 non-null    float64\n",
            " 10  Trailer_views        506 non-null    int64  \n",
            " 11  3D_available         506 non-null    object \n",
            " 12  Time_taken           494 non-null    float64\n",
            " 13  Twitter_hastags      506 non-null    float64\n",
            " 14  Genre                506 non-null    object \n",
            " 15  Avg_age_actors       506 non-null    int64  \n",
            " 16  Num_multiplex        506 non-null    int64  \n",
            " 17  Collection           506 non-null    int64  \n",
            " 18  Start_Tech_Oscar     506 non-null    int64  \n",
            "dtypes: float64(12), int64(5), object(2)\n",
            "memory usage: 75.2+ KB\n"
          ],
          "name": "stdout"
        }
      ]
    },
    {
      "cell_type": "code",
      "metadata": {
        "id": "LabcBg1S4Vfi",
        "colab_type": "code",
        "colab": {
          "base_uri": "https://localhost:8080/",
          "height": 334
        },
        "outputId": "fc81e700-6c7a-42f8-c5e5-5abdd5ca6fc4"
      },
      "source": [
        "df.describe()"
      ],
      "execution_count": 5,
      "outputs": [
        {
          "output_type": "execute_result",
          "data": {
            "text/html": [
              "<div>\n",
              "<style scoped>\n",
              "    .dataframe tbody tr th:only-of-type {\n",
              "        vertical-align: middle;\n",
              "    }\n",
              "\n",
              "    .dataframe tbody tr th {\n",
              "        vertical-align: top;\n",
              "    }\n",
              "\n",
              "    .dataframe thead th {\n",
              "        text-align: right;\n",
              "    }\n",
              "</style>\n",
              "<table border=\"1\" class=\"dataframe\">\n",
              "  <thead>\n",
              "    <tr style=\"text-align: right;\">\n",
              "      <th></th>\n",
              "      <th>Marketing expense</th>\n",
              "      <th>Production expense</th>\n",
              "      <th>Multiplex coverage</th>\n",
              "      <th>Budget</th>\n",
              "      <th>Movie_length</th>\n",
              "      <th>Lead_ Actor_Rating</th>\n",
              "      <th>Lead_Actress_rating</th>\n",
              "      <th>Director_rating</th>\n",
              "      <th>Producer_rating</th>\n",
              "      <th>Critic_rating</th>\n",
              "      <th>Trailer_views</th>\n",
              "      <th>Time_taken</th>\n",
              "      <th>Twitter_hastags</th>\n",
              "      <th>Avg_age_actors</th>\n",
              "      <th>Num_multiplex</th>\n",
              "      <th>Collection</th>\n",
              "      <th>Start_Tech_Oscar</th>\n",
              "    </tr>\n",
              "  </thead>\n",
              "  <tbody>\n",
              "    <tr>\n",
              "      <th>count</th>\n",
              "      <td>506.000000</td>\n",
              "      <td>506.000000</td>\n",
              "      <td>506.000000</td>\n",
              "      <td>506.000000</td>\n",
              "      <td>506.000000</td>\n",
              "      <td>506.000000</td>\n",
              "      <td>506.000000</td>\n",
              "      <td>506.000000</td>\n",
              "      <td>506.000000</td>\n",
              "      <td>506.000000</td>\n",
              "      <td>506.000000</td>\n",
              "      <td>494.000000</td>\n",
              "      <td>506.000000</td>\n",
              "      <td>506.000000</td>\n",
              "      <td>506.000000</td>\n",
              "      <td>506.000000</td>\n",
              "      <td>506.000000</td>\n",
              "    </tr>\n",
              "    <tr>\n",
              "      <th>mean</th>\n",
              "      <td>92.270471</td>\n",
              "      <td>77.273557</td>\n",
              "      <td>0.445305</td>\n",
              "      <td>34911.144022</td>\n",
              "      <td>142.074901</td>\n",
              "      <td>8.014002</td>\n",
              "      <td>8.185613</td>\n",
              "      <td>8.019664</td>\n",
              "      <td>8.190514</td>\n",
              "      <td>7.810870</td>\n",
              "      <td>449860.715415</td>\n",
              "      <td>157.391498</td>\n",
              "      <td>260.832095</td>\n",
              "      <td>39.181818</td>\n",
              "      <td>545.043478</td>\n",
              "      <td>45057.707510</td>\n",
              "      <td>0.545455</td>\n",
              "    </tr>\n",
              "    <tr>\n",
              "      <th>std</th>\n",
              "      <td>172.030902</td>\n",
              "      <td>13.720706</td>\n",
              "      <td>0.115878</td>\n",
              "      <td>3903.038232</td>\n",
              "      <td>28.148861</td>\n",
              "      <td>1.054266</td>\n",
              "      <td>1.054290</td>\n",
              "      <td>1.059899</td>\n",
              "      <td>1.049601</td>\n",
              "      <td>0.659699</td>\n",
              "      <td>68917.763145</td>\n",
              "      <td>31.295161</td>\n",
              "      <td>104.779133</td>\n",
              "      <td>12.513697</td>\n",
              "      <td>106.332889</td>\n",
              "      <td>18364.351764</td>\n",
              "      <td>0.498422</td>\n",
              "    </tr>\n",
              "    <tr>\n",
              "      <th>min</th>\n",
              "      <td>20.126400</td>\n",
              "      <td>55.920000</td>\n",
              "      <td>0.129000</td>\n",
              "      <td>19781.355000</td>\n",
              "      <td>76.400000</td>\n",
              "      <td>3.840000</td>\n",
              "      <td>4.035000</td>\n",
              "      <td>3.840000</td>\n",
              "      <td>4.030000</td>\n",
              "      <td>6.600000</td>\n",
              "      <td>212912.000000</td>\n",
              "      <td>0.000000</td>\n",
              "      <td>201.152000</td>\n",
              "      <td>3.000000</td>\n",
              "      <td>333.000000</td>\n",
              "      <td>10000.000000</td>\n",
              "      <td>0.000000</td>\n",
              "    </tr>\n",
              "    <tr>\n",
              "      <th>25%</th>\n",
              "      <td>21.640900</td>\n",
              "      <td>65.380000</td>\n",
              "      <td>0.376000</td>\n",
              "      <td>32693.952500</td>\n",
              "      <td>118.525000</td>\n",
              "      <td>7.316250</td>\n",
              "      <td>7.503750</td>\n",
              "      <td>7.296250</td>\n",
              "      <td>7.507500</td>\n",
              "      <td>7.200000</td>\n",
              "      <td>409128.000000</td>\n",
              "      <td>132.300000</td>\n",
              "      <td>223.796000</td>\n",
              "      <td>28.000000</td>\n",
              "      <td>465.000000</td>\n",
              "      <td>34050.000000</td>\n",
              "      <td>0.000000</td>\n",
              "    </tr>\n",
              "    <tr>\n",
              "      <th>50%</th>\n",
              "      <td>25.130200</td>\n",
              "      <td>74.380000</td>\n",
              "      <td>0.462000</td>\n",
              "      <td>34488.217500</td>\n",
              "      <td>151.000000</td>\n",
              "      <td>8.307500</td>\n",
              "      <td>8.495000</td>\n",
              "      <td>8.312500</td>\n",
              "      <td>8.465000</td>\n",
              "      <td>7.960000</td>\n",
              "      <td>462460.000000</td>\n",
              "      <td>160.000000</td>\n",
              "      <td>254.400000</td>\n",
              "      <td>39.000000</td>\n",
              "      <td>535.500000</td>\n",
              "      <td>42400.000000</td>\n",
              "      <td>1.000000</td>\n",
              "    </tr>\n",
              "    <tr>\n",
              "      <th>75%</th>\n",
              "      <td>93.541650</td>\n",
              "      <td>91.200000</td>\n",
              "      <td>0.551000</td>\n",
              "      <td>36793.542500</td>\n",
              "      <td>167.575000</td>\n",
              "      <td>8.865000</td>\n",
              "      <td>9.030000</td>\n",
              "      <td>8.883750</td>\n",
              "      <td>9.030000</td>\n",
              "      <td>8.260000</td>\n",
              "      <td>500247.500000</td>\n",
              "      <td>181.890000</td>\n",
              "      <td>283.416000</td>\n",
              "      <td>50.000000</td>\n",
              "      <td>614.750000</td>\n",
              "      <td>50000.000000</td>\n",
              "      <td>1.000000</td>\n",
              "    </tr>\n",
              "    <tr>\n",
              "      <th>max</th>\n",
              "      <td>1799.524000</td>\n",
              "      <td>110.480000</td>\n",
              "      <td>0.615000</td>\n",
              "      <td>48772.900000</td>\n",
              "      <td>173.500000</td>\n",
              "      <td>9.435000</td>\n",
              "      <td>9.540000</td>\n",
              "      <td>9.425000</td>\n",
              "      <td>9.635000</td>\n",
              "      <td>9.400000</td>\n",
              "      <td>567784.000000</td>\n",
              "      <td>217.520000</td>\n",
              "      <td>2022.400000</td>\n",
              "      <td>60.000000</td>\n",
              "      <td>868.000000</td>\n",
              "      <td>100000.000000</td>\n",
              "      <td>1.000000</td>\n",
              "    </tr>\n",
              "  </tbody>\n",
              "</table>\n",
              "</div>"
            ],
            "text/plain": [
              "       Marketing expense  Production expense  ...     Collection  Start_Tech_Oscar\n",
              "count         506.000000          506.000000  ...     506.000000        506.000000\n",
              "mean           92.270471           77.273557  ...   45057.707510          0.545455\n",
              "std           172.030902           13.720706  ...   18364.351764          0.498422\n",
              "min            20.126400           55.920000  ...   10000.000000          0.000000\n",
              "25%            21.640900           65.380000  ...   34050.000000          0.000000\n",
              "50%            25.130200           74.380000  ...   42400.000000          1.000000\n",
              "75%            93.541650           91.200000  ...   50000.000000          1.000000\n",
              "max          1799.524000          110.480000  ...  100000.000000          1.000000\n",
              "\n",
              "[8 rows x 17 columns]"
            ]
          },
          "metadata": {
            "tags": []
          },
          "execution_count": 5
        }
      ]
    },
    {
      "cell_type": "code",
      "metadata": {
        "id": "6KO-oxNx4YQK",
        "colab_type": "code",
        "colab": {
          "base_uri": "https://localhost:8080/",
          "height": 357
        },
        "outputId": "bb1a0a20-f34b-4367-842d-936c362bb1f7"
      },
      "source": [
        "df.isnull().sum()"
      ],
      "execution_count": 6,
      "outputs": [
        {
          "output_type": "execute_result",
          "data": {
            "text/plain": [
              "Marketing expense       0\n",
              "Production expense      0\n",
              "Multiplex coverage      0\n",
              "Budget                  0\n",
              "Movie_length            0\n",
              "Lead_ Actor_Rating      0\n",
              "Lead_Actress_rating     0\n",
              "Director_rating         0\n",
              "Producer_rating         0\n",
              "Critic_rating           0\n",
              "Trailer_views           0\n",
              "3D_available            0\n",
              "Time_taken             12\n",
              "Twitter_hastags         0\n",
              "Genre                   0\n",
              "Avg_age_actors          0\n",
              "Num_multiplex           0\n",
              "Collection              0\n",
              "Start_Tech_Oscar        0\n",
              "dtype: int64"
            ]
          },
          "metadata": {
            "tags": []
          },
          "execution_count": 6
        }
      ]
    },
    {
      "cell_type": "markdown",
      "metadata": {
        "id": "WyMEllz_4iG6",
        "colab_type": "text"
      },
      "source": [
        "Impute Missing value"
      ]
    },
    {
      "cell_type": "code",
      "metadata": {
        "id": "JchhIwuj4d0a",
        "colab_type": "code",
        "colab": {
          "base_uri": "https://localhost:8080/",
          "height": 34
        },
        "outputId": "c1273c13-0306-4ad2-b720-e876a17c8780"
      },
      "source": [
        "df['Time_taken'].mean()"
      ],
      "execution_count": 7,
      "outputs": [
        {
          "output_type": "execute_result",
          "data": {
            "text/plain": [
              "157.39149797570855"
            ]
          },
          "metadata": {
            "tags": []
          },
          "execution_count": 7
        }
      ]
    },
    {
      "cell_type": "code",
      "metadata": {
        "id": "nOct67v04rl5",
        "colab_type": "code",
        "colab": {}
      },
      "source": [
        "df['Time_taken'].fillna(value=df['Time_taken'].mean(),inplace=True)"
      ],
      "execution_count": 8,
      "outputs": []
    },
    {
      "cell_type": "code",
      "metadata": {
        "id": "Pnx6HBZw47l3",
        "colab_type": "code",
        "colab": {
          "base_uri": "https://localhost:8080/",
          "height": 357
        },
        "outputId": "40a15381-aca9-4eae-eb61-eac2d223cd19"
      },
      "source": [
        "df.isnull().sum()"
      ],
      "execution_count": 9,
      "outputs": [
        {
          "output_type": "execute_result",
          "data": {
            "text/plain": [
              "Marketing expense      0\n",
              "Production expense     0\n",
              "Multiplex coverage     0\n",
              "Budget                 0\n",
              "Movie_length           0\n",
              "Lead_ Actor_Rating     0\n",
              "Lead_Actress_rating    0\n",
              "Director_rating        0\n",
              "Producer_rating        0\n",
              "Critic_rating          0\n",
              "Trailer_views          0\n",
              "3D_available           0\n",
              "Time_taken             0\n",
              "Twitter_hastags        0\n",
              "Genre                  0\n",
              "Avg_age_actors         0\n",
              "Num_multiplex          0\n",
              "Collection             0\n",
              "Start_Tech_Oscar       0\n",
              "dtype: int64"
            ]
          },
          "metadata": {
            "tags": []
          },
          "execution_count": 9
        }
      ]
    },
    {
      "cell_type": "markdown",
      "metadata": {
        "id": "Jhf2fy0F5T8Q",
        "colab_type": "text"
      },
      "source": [
        "Dummy Variable Creation"
      ]
    },
    {
      "cell_type": "code",
      "metadata": {
        "id": "VlEa81rB4-jl",
        "colab_type": "code",
        "colab": {}
      },
      "source": [
        "df =pd.get_dummies(df,columns=['3D_available','Genre'],drop_first= True)"
      ],
      "execution_count": 10,
      "outputs": []
    },
    {
      "cell_type": "code",
      "metadata": {
        "id": "E98ES8wP57YS",
        "colab_type": "code",
        "colab": {
          "base_uri": "https://localhost:8080/",
          "height": 456
        },
        "outputId": "512fd2a1-9435-4dc0-e540-733095dcd956"
      },
      "source": [
        "df"
      ],
      "execution_count": 11,
      "outputs": [
        {
          "output_type": "execute_result",
          "data": {
            "text/html": [
              "<div>\n",
              "<style scoped>\n",
              "    .dataframe tbody tr th:only-of-type {\n",
              "        vertical-align: middle;\n",
              "    }\n",
              "\n",
              "    .dataframe tbody tr th {\n",
              "        vertical-align: top;\n",
              "    }\n",
              "\n",
              "    .dataframe thead th {\n",
              "        text-align: right;\n",
              "    }\n",
              "</style>\n",
              "<table border=\"1\" class=\"dataframe\">\n",
              "  <thead>\n",
              "    <tr style=\"text-align: right;\">\n",
              "      <th></th>\n",
              "      <th>Marketing expense</th>\n",
              "      <th>Production expense</th>\n",
              "      <th>Multiplex coverage</th>\n",
              "      <th>Budget</th>\n",
              "      <th>Movie_length</th>\n",
              "      <th>Lead_ Actor_Rating</th>\n",
              "      <th>Lead_Actress_rating</th>\n",
              "      <th>Director_rating</th>\n",
              "      <th>Producer_rating</th>\n",
              "      <th>Critic_rating</th>\n",
              "      <th>Trailer_views</th>\n",
              "      <th>Time_taken</th>\n",
              "      <th>Twitter_hastags</th>\n",
              "      <th>Avg_age_actors</th>\n",
              "      <th>Num_multiplex</th>\n",
              "      <th>Collection</th>\n",
              "      <th>Start_Tech_Oscar</th>\n",
              "      <th>3D_available_YES</th>\n",
              "      <th>Genre_Comedy</th>\n",
              "      <th>Genre_Drama</th>\n",
              "      <th>Genre_Thriller</th>\n",
              "    </tr>\n",
              "  </thead>\n",
              "  <tbody>\n",
              "    <tr>\n",
              "      <th>0</th>\n",
              "      <td>20.1264</td>\n",
              "      <td>59.62</td>\n",
              "      <td>0.462</td>\n",
              "      <td>36524.125</td>\n",
              "      <td>138.7</td>\n",
              "      <td>7.825</td>\n",
              "      <td>8.095</td>\n",
              "      <td>7.910</td>\n",
              "      <td>7.995</td>\n",
              "      <td>7.94</td>\n",
              "      <td>527367</td>\n",
              "      <td>109.60</td>\n",
              "      <td>223.840</td>\n",
              "      <td>23</td>\n",
              "      <td>494</td>\n",
              "      <td>48000</td>\n",
              "      <td>1</td>\n",
              "      <td>1</td>\n",
              "      <td>0</td>\n",
              "      <td>0</td>\n",
              "      <td>1</td>\n",
              "    </tr>\n",
              "    <tr>\n",
              "      <th>1</th>\n",
              "      <td>20.5462</td>\n",
              "      <td>69.14</td>\n",
              "      <td>0.531</td>\n",
              "      <td>35668.655</td>\n",
              "      <td>152.4</td>\n",
              "      <td>7.505</td>\n",
              "      <td>7.650</td>\n",
              "      <td>7.440</td>\n",
              "      <td>7.470</td>\n",
              "      <td>7.44</td>\n",
              "      <td>494055</td>\n",
              "      <td>146.64</td>\n",
              "      <td>243.456</td>\n",
              "      <td>42</td>\n",
              "      <td>462</td>\n",
              "      <td>43200</td>\n",
              "      <td>0</td>\n",
              "      <td>0</td>\n",
              "      <td>0</td>\n",
              "      <td>1</td>\n",
              "      <td>0</td>\n",
              "    </tr>\n",
              "    <tr>\n",
              "      <th>2</th>\n",
              "      <td>20.5458</td>\n",
              "      <td>69.14</td>\n",
              "      <td>0.531</td>\n",
              "      <td>39912.675</td>\n",
              "      <td>134.6</td>\n",
              "      <td>7.485</td>\n",
              "      <td>7.570</td>\n",
              "      <td>7.495</td>\n",
              "      <td>7.515</td>\n",
              "      <td>7.44</td>\n",
              "      <td>547051</td>\n",
              "      <td>147.88</td>\n",
              "      <td>2022.400</td>\n",
              "      <td>38</td>\n",
              "      <td>458</td>\n",
              "      <td>69400</td>\n",
              "      <td>1</td>\n",
              "      <td>0</td>\n",
              "      <td>1</td>\n",
              "      <td>0</td>\n",
              "      <td>0</td>\n",
              "    </tr>\n",
              "    <tr>\n",
              "      <th>3</th>\n",
              "      <td>20.6474</td>\n",
              "      <td>59.36</td>\n",
              "      <td>0.542</td>\n",
              "      <td>38873.890</td>\n",
              "      <td>119.3</td>\n",
              "      <td>6.895</td>\n",
              "      <td>7.035</td>\n",
              "      <td>6.920</td>\n",
              "      <td>7.020</td>\n",
              "      <td>8.26</td>\n",
              "      <td>516279</td>\n",
              "      <td>185.36</td>\n",
              "      <td>225.344</td>\n",
              "      <td>45</td>\n",
              "      <td>472</td>\n",
              "      <td>66800</td>\n",
              "      <td>1</td>\n",
              "      <td>1</td>\n",
              "      <td>0</td>\n",
              "      <td>1</td>\n",
              "      <td>0</td>\n",
              "    </tr>\n",
              "    <tr>\n",
              "      <th>4</th>\n",
              "      <td>21.3810</td>\n",
              "      <td>59.36</td>\n",
              "      <td>0.542</td>\n",
              "      <td>39701.585</td>\n",
              "      <td>127.7</td>\n",
              "      <td>6.920</td>\n",
              "      <td>7.070</td>\n",
              "      <td>6.815</td>\n",
              "      <td>7.070</td>\n",
              "      <td>8.26</td>\n",
              "      <td>531448</td>\n",
              "      <td>176.48</td>\n",
              "      <td>225.792</td>\n",
              "      <td>55</td>\n",
              "      <td>395</td>\n",
              "      <td>72400</td>\n",
              "      <td>1</td>\n",
              "      <td>0</td>\n",
              "      <td>0</td>\n",
              "      <td>1</td>\n",
              "      <td>0</td>\n",
              "    </tr>\n",
              "    <tr>\n",
              "      <th>...</th>\n",
              "      <td>...</td>\n",
              "      <td>...</td>\n",
              "      <td>...</td>\n",
              "      <td>...</td>\n",
              "      <td>...</td>\n",
              "      <td>...</td>\n",
              "      <td>...</td>\n",
              "      <td>...</td>\n",
              "      <td>...</td>\n",
              "      <td>...</td>\n",
              "      <td>...</td>\n",
              "      <td>...</td>\n",
              "      <td>...</td>\n",
              "      <td>...</td>\n",
              "      <td>...</td>\n",
              "      <td>...</td>\n",
              "      <td>...</td>\n",
              "      <td>...</td>\n",
              "      <td>...</td>\n",
              "      <td>...</td>\n",
              "      <td>...</td>\n",
              "    </tr>\n",
              "    <tr>\n",
              "      <th>501</th>\n",
              "      <td>21.2526</td>\n",
              "      <td>78.86</td>\n",
              "      <td>0.427</td>\n",
              "      <td>36624.115</td>\n",
              "      <td>142.6</td>\n",
              "      <td>8.680</td>\n",
              "      <td>8.775</td>\n",
              "      <td>8.620</td>\n",
              "      <td>8.970</td>\n",
              "      <td>6.80</td>\n",
              "      <td>492480</td>\n",
              "      <td>186.96</td>\n",
              "      <td>243.584</td>\n",
              "      <td>27</td>\n",
              "      <td>561</td>\n",
              "      <td>44800</td>\n",
              "      <td>0</td>\n",
              "      <td>0</td>\n",
              "      <td>0</td>\n",
              "      <td>0</td>\n",
              "      <td>0</td>\n",
              "    </tr>\n",
              "    <tr>\n",
              "      <th>502</th>\n",
              "      <td>20.9054</td>\n",
              "      <td>78.86</td>\n",
              "      <td>0.427</td>\n",
              "      <td>33996.600</td>\n",
              "      <td>150.2</td>\n",
              "      <td>8.780</td>\n",
              "      <td>8.945</td>\n",
              "      <td>8.770</td>\n",
              "      <td>8.930</td>\n",
              "      <td>7.80</td>\n",
              "      <td>482875</td>\n",
              "      <td>132.24</td>\n",
              "      <td>263.296</td>\n",
              "      <td>20</td>\n",
              "      <td>600</td>\n",
              "      <td>41200</td>\n",
              "      <td>0</td>\n",
              "      <td>1</td>\n",
              "      <td>0</td>\n",
              "      <td>0</td>\n",
              "      <td>0</td>\n",
              "    </tr>\n",
              "    <tr>\n",
              "      <th>503</th>\n",
              "      <td>21.2152</td>\n",
              "      <td>78.86</td>\n",
              "      <td>0.427</td>\n",
              "      <td>38751.680</td>\n",
              "      <td>164.5</td>\n",
              "      <td>8.830</td>\n",
              "      <td>8.970</td>\n",
              "      <td>8.855</td>\n",
              "      <td>9.010</td>\n",
              "      <td>7.80</td>\n",
              "      <td>532239</td>\n",
              "      <td>109.56</td>\n",
              "      <td>243.824</td>\n",
              "      <td>31</td>\n",
              "      <td>576</td>\n",
              "      <td>47800</td>\n",
              "      <td>0</td>\n",
              "      <td>0</td>\n",
              "      <td>1</td>\n",
              "      <td>0</td>\n",
              "      <td>0</td>\n",
              "    </tr>\n",
              "    <tr>\n",
              "      <th>504</th>\n",
              "      <td>22.1918</td>\n",
              "      <td>78.86</td>\n",
              "      <td>0.427</td>\n",
              "      <td>37740.670</td>\n",
              "      <td>162.8</td>\n",
              "      <td>8.730</td>\n",
              "      <td>8.845</td>\n",
              "      <td>8.800</td>\n",
              "      <td>8.845</td>\n",
              "      <td>6.80</td>\n",
              "      <td>496077</td>\n",
              "      <td>158.80</td>\n",
              "      <td>303.520</td>\n",
              "      <td>47</td>\n",
              "      <td>607</td>\n",
              "      <td>44000</td>\n",
              "      <td>0</td>\n",
              "      <td>1</td>\n",
              "      <td>1</td>\n",
              "      <td>0</td>\n",
              "      <td>0</td>\n",
              "    </tr>\n",
              "    <tr>\n",
              "      <th>505</th>\n",
              "      <td>20.9482</td>\n",
              "      <td>78.86</td>\n",
              "      <td>0.427</td>\n",
              "      <td>33496.650</td>\n",
              "      <td>154.3</td>\n",
              "      <td>8.640</td>\n",
              "      <td>8.880</td>\n",
              "      <td>8.680</td>\n",
              "      <td>8.790</td>\n",
              "      <td>6.80</td>\n",
              "      <td>518438</td>\n",
              "      <td>205.60</td>\n",
              "      <td>203.040</td>\n",
              "      <td>45</td>\n",
              "      <td>604</td>\n",
              "      <td>38000</td>\n",
              "      <td>0</td>\n",
              "      <td>1</td>\n",
              "      <td>1</td>\n",
              "      <td>0</td>\n",
              "      <td>0</td>\n",
              "    </tr>\n",
              "  </tbody>\n",
              "</table>\n",
              "<p>506 rows × 21 columns</p>\n",
              "</div>"
            ],
            "text/plain": [
              "     Marketing expense  Production expense  ...  Genre_Drama  Genre_Thriller\n",
              "0              20.1264               59.62  ...            0               1\n",
              "1              20.5462               69.14  ...            1               0\n",
              "2              20.5458               69.14  ...            0               0\n",
              "3              20.6474               59.36  ...            1               0\n",
              "4              21.3810               59.36  ...            1               0\n",
              "..                 ...                 ...  ...          ...             ...\n",
              "501            21.2526               78.86  ...            0               0\n",
              "502            20.9054               78.86  ...            0               0\n",
              "503            21.2152               78.86  ...            0               0\n",
              "504            22.1918               78.86  ...            0               0\n",
              "505            20.9482               78.86  ...            0               0\n",
              "\n",
              "[506 rows x 21 columns]"
            ]
          },
          "metadata": {
            "tags": []
          },
          "execution_count": 11
        }
      ]
    },
    {
      "cell_type": "markdown",
      "metadata": {
        "id": "TcUZXdSX6VSI",
        "colab_type": "text"
      },
      "source": [
        "X-Y split"
      ]
    },
    {
      "cell_type": "code",
      "metadata": {
        "id": "6ZHMQStv58Cz",
        "colab_type": "code",
        "colab": {}
      },
      "source": [
        "X = df.loc[:,df.columns!='Start_Tech_Oscar']"
      ],
      "execution_count": 12,
      "outputs": []
    },
    {
      "cell_type": "code",
      "metadata": {
        "id": "V1H-SJZI60En",
        "colab_type": "code",
        "colab": {
          "base_uri": "https://localhost:8080/",
          "height": 241
        },
        "outputId": "54e3c85e-a08d-484d-b662-18619ae93cd2"
      },
      "source": [
        "X.head()"
      ],
      "execution_count": 13,
      "outputs": [
        {
          "output_type": "execute_result",
          "data": {
            "text/html": [
              "<div>\n",
              "<style scoped>\n",
              "    .dataframe tbody tr th:only-of-type {\n",
              "        vertical-align: middle;\n",
              "    }\n",
              "\n",
              "    .dataframe tbody tr th {\n",
              "        vertical-align: top;\n",
              "    }\n",
              "\n",
              "    .dataframe thead th {\n",
              "        text-align: right;\n",
              "    }\n",
              "</style>\n",
              "<table border=\"1\" class=\"dataframe\">\n",
              "  <thead>\n",
              "    <tr style=\"text-align: right;\">\n",
              "      <th></th>\n",
              "      <th>Marketing expense</th>\n",
              "      <th>Production expense</th>\n",
              "      <th>Multiplex coverage</th>\n",
              "      <th>Budget</th>\n",
              "      <th>Movie_length</th>\n",
              "      <th>Lead_ Actor_Rating</th>\n",
              "      <th>Lead_Actress_rating</th>\n",
              "      <th>Director_rating</th>\n",
              "      <th>Producer_rating</th>\n",
              "      <th>Critic_rating</th>\n",
              "      <th>Trailer_views</th>\n",
              "      <th>Time_taken</th>\n",
              "      <th>Twitter_hastags</th>\n",
              "      <th>Avg_age_actors</th>\n",
              "      <th>Num_multiplex</th>\n",
              "      <th>Collection</th>\n",
              "      <th>3D_available_YES</th>\n",
              "      <th>Genre_Comedy</th>\n",
              "      <th>Genre_Drama</th>\n",
              "      <th>Genre_Thriller</th>\n",
              "    </tr>\n",
              "  </thead>\n",
              "  <tbody>\n",
              "    <tr>\n",
              "      <th>0</th>\n",
              "      <td>20.1264</td>\n",
              "      <td>59.62</td>\n",
              "      <td>0.462</td>\n",
              "      <td>36524.125</td>\n",
              "      <td>138.7</td>\n",
              "      <td>7.825</td>\n",
              "      <td>8.095</td>\n",
              "      <td>7.910</td>\n",
              "      <td>7.995</td>\n",
              "      <td>7.94</td>\n",
              "      <td>527367</td>\n",
              "      <td>109.60</td>\n",
              "      <td>223.840</td>\n",
              "      <td>23</td>\n",
              "      <td>494</td>\n",
              "      <td>48000</td>\n",
              "      <td>1</td>\n",
              "      <td>0</td>\n",
              "      <td>0</td>\n",
              "      <td>1</td>\n",
              "    </tr>\n",
              "    <tr>\n",
              "      <th>1</th>\n",
              "      <td>20.5462</td>\n",
              "      <td>69.14</td>\n",
              "      <td>0.531</td>\n",
              "      <td>35668.655</td>\n",
              "      <td>152.4</td>\n",
              "      <td>7.505</td>\n",
              "      <td>7.650</td>\n",
              "      <td>7.440</td>\n",
              "      <td>7.470</td>\n",
              "      <td>7.44</td>\n",
              "      <td>494055</td>\n",
              "      <td>146.64</td>\n",
              "      <td>243.456</td>\n",
              "      <td>42</td>\n",
              "      <td>462</td>\n",
              "      <td>43200</td>\n",
              "      <td>0</td>\n",
              "      <td>0</td>\n",
              "      <td>1</td>\n",
              "      <td>0</td>\n",
              "    </tr>\n",
              "    <tr>\n",
              "      <th>2</th>\n",
              "      <td>20.5458</td>\n",
              "      <td>69.14</td>\n",
              "      <td>0.531</td>\n",
              "      <td>39912.675</td>\n",
              "      <td>134.6</td>\n",
              "      <td>7.485</td>\n",
              "      <td>7.570</td>\n",
              "      <td>7.495</td>\n",
              "      <td>7.515</td>\n",
              "      <td>7.44</td>\n",
              "      <td>547051</td>\n",
              "      <td>147.88</td>\n",
              "      <td>2022.400</td>\n",
              "      <td>38</td>\n",
              "      <td>458</td>\n",
              "      <td>69400</td>\n",
              "      <td>0</td>\n",
              "      <td>1</td>\n",
              "      <td>0</td>\n",
              "      <td>0</td>\n",
              "    </tr>\n",
              "    <tr>\n",
              "      <th>3</th>\n",
              "      <td>20.6474</td>\n",
              "      <td>59.36</td>\n",
              "      <td>0.542</td>\n",
              "      <td>38873.890</td>\n",
              "      <td>119.3</td>\n",
              "      <td>6.895</td>\n",
              "      <td>7.035</td>\n",
              "      <td>6.920</td>\n",
              "      <td>7.020</td>\n",
              "      <td>8.26</td>\n",
              "      <td>516279</td>\n",
              "      <td>185.36</td>\n",
              "      <td>225.344</td>\n",
              "      <td>45</td>\n",
              "      <td>472</td>\n",
              "      <td>66800</td>\n",
              "      <td>1</td>\n",
              "      <td>0</td>\n",
              "      <td>1</td>\n",
              "      <td>0</td>\n",
              "    </tr>\n",
              "    <tr>\n",
              "      <th>4</th>\n",
              "      <td>21.3810</td>\n",
              "      <td>59.36</td>\n",
              "      <td>0.542</td>\n",
              "      <td>39701.585</td>\n",
              "      <td>127.7</td>\n",
              "      <td>6.920</td>\n",
              "      <td>7.070</td>\n",
              "      <td>6.815</td>\n",
              "      <td>7.070</td>\n",
              "      <td>8.26</td>\n",
              "      <td>531448</td>\n",
              "      <td>176.48</td>\n",
              "      <td>225.792</td>\n",
              "      <td>55</td>\n",
              "      <td>395</td>\n",
              "      <td>72400</td>\n",
              "      <td>0</td>\n",
              "      <td>0</td>\n",
              "      <td>1</td>\n",
              "      <td>0</td>\n",
              "    </tr>\n",
              "  </tbody>\n",
              "</table>\n",
              "</div>"
            ],
            "text/plain": [
              "   Marketing expense  Production expense  ...  Genre_Drama  Genre_Thriller\n",
              "0            20.1264               59.62  ...            0               1\n",
              "1            20.5462               69.14  ...            1               0\n",
              "2            20.5458               69.14  ...            0               0\n",
              "3            20.6474               59.36  ...            1               0\n",
              "4            21.3810               59.36  ...            1               0\n",
              "\n",
              "[5 rows x 20 columns]"
            ]
          },
          "metadata": {
            "tags": []
          },
          "execution_count": 13
        }
      ]
    },
    {
      "cell_type": "code",
      "metadata": {
        "id": "pJw5Bx0q614n",
        "colab_type": "code",
        "colab": {
          "base_uri": "https://localhost:8080/",
          "height": 34
        },
        "outputId": "ed476db0-6a20-4590-c79e-de9bf36befdb"
      },
      "source": [
        "X.shape"
      ],
      "execution_count": 14,
      "outputs": [
        {
          "output_type": "execute_result",
          "data": {
            "text/plain": [
              "(506, 20)"
            ]
          },
          "metadata": {
            "tags": []
          },
          "execution_count": 14
        }
      ]
    },
    {
      "cell_type": "code",
      "metadata": {
        "id": "bHGzIpZU66TZ",
        "colab_type": "code",
        "colab": {}
      },
      "source": [
        "Y=df['Start_Tech_Oscar']"
      ],
      "execution_count": 15,
      "outputs": []
    },
    {
      "cell_type": "code",
      "metadata": {
        "id": "C5Oxp0WR7C3l",
        "colab_type": "code",
        "colab": {
          "base_uri": "https://localhost:8080/",
          "height": 119
        },
        "outputId": "3f95a8a7-eb3e-457f-93fc-2d8555a056b2"
      },
      "source": [
        "Y.head()"
      ],
      "execution_count": 16,
      "outputs": [
        {
          "output_type": "execute_result",
          "data": {
            "text/plain": [
              "0    1\n",
              "1    0\n",
              "2    1\n",
              "3    1\n",
              "4    1\n",
              "Name: Start_Tech_Oscar, dtype: int64"
            ]
          },
          "metadata": {
            "tags": []
          },
          "execution_count": 16
        }
      ]
    },
    {
      "cell_type": "markdown",
      "metadata": {
        "id": "Hyqqtyq07IfV",
        "colab_type": "text"
      },
      "source": [
        "Test-Train split"
      ]
    },
    {
      "cell_type": "code",
      "metadata": {
        "id": "D5_fzyCP7EKN",
        "colab_type": "code",
        "colab": {}
      },
      "source": [
        "from sklearn.model_selection import train_test_split"
      ],
      "execution_count": 17,
      "outputs": []
    },
    {
      "cell_type": "code",
      "metadata": {
        "id": "LfMQ398l7p_8",
        "colab_type": "code",
        "colab": {}
      },
      "source": [
        "X_train,X_test,Y_train,Y_test = train_test_split(X,Y,test_size=0.2,random_state=0)"
      ],
      "execution_count": 18,
      "outputs": []
    },
    {
      "cell_type": "code",
      "metadata": {
        "id": "8awFhvu-7-xZ",
        "colab_type": "code",
        "colab": {
          "base_uri": "https://localhost:8080/",
          "height": 241
        },
        "outputId": "8a3c976c-bf6f-4a73-c7a1-913cba00f6cf"
      },
      "source": [
        "X_train.head()"
      ],
      "execution_count": 19,
      "outputs": [
        {
          "output_type": "execute_result",
          "data": {
            "text/html": [
              "<div>\n",
              "<style scoped>\n",
              "    .dataframe tbody tr th:only-of-type {\n",
              "        vertical-align: middle;\n",
              "    }\n",
              "\n",
              "    .dataframe tbody tr th {\n",
              "        vertical-align: top;\n",
              "    }\n",
              "\n",
              "    .dataframe thead th {\n",
              "        text-align: right;\n",
              "    }\n",
              "</style>\n",
              "<table border=\"1\" class=\"dataframe\">\n",
              "  <thead>\n",
              "    <tr style=\"text-align: right;\">\n",
              "      <th></th>\n",
              "      <th>Marketing expense</th>\n",
              "      <th>Production expense</th>\n",
              "      <th>Multiplex coverage</th>\n",
              "      <th>Budget</th>\n",
              "      <th>Movie_length</th>\n",
              "      <th>Lead_ Actor_Rating</th>\n",
              "      <th>Lead_Actress_rating</th>\n",
              "      <th>Director_rating</th>\n",
              "      <th>Producer_rating</th>\n",
              "      <th>Critic_rating</th>\n",
              "      <th>Trailer_views</th>\n",
              "      <th>Time_taken</th>\n",
              "      <th>Twitter_hastags</th>\n",
              "      <th>Avg_age_actors</th>\n",
              "      <th>Num_multiplex</th>\n",
              "      <th>Collection</th>\n",
              "      <th>3D_available_YES</th>\n",
              "      <th>Genre_Comedy</th>\n",
              "      <th>Genre_Drama</th>\n",
              "      <th>Genre_Thriller</th>\n",
              "    </tr>\n",
              "  </thead>\n",
              "  <tbody>\n",
              "    <tr>\n",
              "      <th>220</th>\n",
              "      <td>27.1618</td>\n",
              "      <td>67.40</td>\n",
              "      <td>0.493</td>\n",
              "      <td>38612.805</td>\n",
              "      <td>162.0</td>\n",
              "      <td>8.485</td>\n",
              "      <td>8.640</td>\n",
              "      <td>8.485</td>\n",
              "      <td>8.670</td>\n",
              "      <td>8.52</td>\n",
              "      <td>480270</td>\n",
              "      <td>174.68</td>\n",
              "      <td>224.272</td>\n",
              "      <td>23</td>\n",
              "      <td>536</td>\n",
              "      <td>53400</td>\n",
              "      <td>0</td>\n",
              "      <td>0</td>\n",
              "      <td>0</td>\n",
              "      <td>1</td>\n",
              "    </tr>\n",
              "    <tr>\n",
              "      <th>71</th>\n",
              "      <td>23.1752</td>\n",
              "      <td>76.62</td>\n",
              "      <td>0.587</td>\n",
              "      <td>33113.355</td>\n",
              "      <td>91.0</td>\n",
              "      <td>7.280</td>\n",
              "      <td>7.400</td>\n",
              "      <td>7.290</td>\n",
              "      <td>7.455</td>\n",
              "      <td>8.16</td>\n",
              "      <td>491978</td>\n",
              "      <td>200.68</td>\n",
              "      <td>263.472</td>\n",
              "      <td>46</td>\n",
              "      <td>400</td>\n",
              "      <td>43400</td>\n",
              "      <td>0</td>\n",
              "      <td>0</td>\n",
              "      <td>0</td>\n",
              "      <td>0</td>\n",
              "    </tr>\n",
              "    <tr>\n",
              "      <th>240</th>\n",
              "      <td>22.2658</td>\n",
              "      <td>64.86</td>\n",
              "      <td>0.572</td>\n",
              "      <td>38312.835</td>\n",
              "      <td>127.8</td>\n",
              "      <td>6.755</td>\n",
              "      <td>6.935</td>\n",
              "      <td>6.800</td>\n",
              "      <td>6.840</td>\n",
              "      <td>8.68</td>\n",
              "      <td>470107</td>\n",
              "      <td>204.80</td>\n",
              "      <td>224.320</td>\n",
              "      <td>24</td>\n",
              "      <td>387</td>\n",
              "      <td>54000</td>\n",
              "      <td>1</td>\n",
              "      <td>1</td>\n",
              "      <td>0</td>\n",
              "      <td>0</td>\n",
              "    </tr>\n",
              "    <tr>\n",
              "      <th>6</th>\n",
              "      <td>21.7658</td>\n",
              "      <td>70.74</td>\n",
              "      <td>0.476</td>\n",
              "      <td>33396.660</td>\n",
              "      <td>140.1</td>\n",
              "      <td>7.065</td>\n",
              "      <td>7.265</td>\n",
              "      <td>7.150</td>\n",
              "      <td>7.400</td>\n",
              "      <td>8.96</td>\n",
              "      <td>459241</td>\n",
              "      <td>139.16</td>\n",
              "      <td>243.664</td>\n",
              "      <td>41</td>\n",
              "      <td>522</td>\n",
              "      <td>45800</td>\n",
              "      <td>1</td>\n",
              "      <td>0</td>\n",
              "      <td>0</td>\n",
              "      <td>1</td>\n",
              "    </tr>\n",
              "    <tr>\n",
              "      <th>417</th>\n",
              "      <td>538.8120</td>\n",
              "      <td>91.20</td>\n",
              "      <td>0.321</td>\n",
              "      <td>29463.720</td>\n",
              "      <td>162.6</td>\n",
              "      <td>9.135</td>\n",
              "      <td>9.305</td>\n",
              "      <td>9.095</td>\n",
              "      <td>9.165</td>\n",
              "      <td>6.96</td>\n",
              "      <td>302776</td>\n",
              "      <td>172.16</td>\n",
              "      <td>301.664</td>\n",
              "      <td>60</td>\n",
              "      <td>589</td>\n",
              "      <td>20800</td>\n",
              "      <td>1</td>\n",
              "      <td>0</td>\n",
              "      <td>0</td>\n",
              "      <td>0</td>\n",
              "    </tr>\n",
              "  </tbody>\n",
              "</table>\n",
              "</div>"
            ],
            "text/plain": [
              "     Marketing expense  Production expense  ...  Genre_Drama  Genre_Thriller\n",
              "220            27.1618               67.40  ...            0               1\n",
              "71             23.1752               76.62  ...            0               0\n",
              "240            22.2658               64.86  ...            0               0\n",
              "6              21.7658               70.74  ...            0               1\n",
              "417           538.8120               91.20  ...            0               0\n",
              "\n",
              "[5 rows x 20 columns]"
            ]
          },
          "metadata": {
            "tags": []
          },
          "execution_count": 19
        }
      ]
    },
    {
      "cell_type": "code",
      "metadata": {
        "id": "tX203XGy8B2i",
        "colab_type": "code",
        "colab": {
          "base_uri": "https://localhost:8080/",
          "height": 34
        },
        "outputId": "b8e6722a-0a08-454a-c1c3-799473db5f45"
      },
      "source": [
        "X_train.shape"
      ],
      "execution_count": 20,
      "outputs": [
        {
          "output_type": "execute_result",
          "data": {
            "text/plain": [
              "(404, 20)"
            ]
          },
          "metadata": {
            "tags": []
          },
          "execution_count": 20
        }
      ]
    },
    {
      "cell_type": "code",
      "metadata": {
        "id": "fGRHwjo78GtB",
        "colab_type": "code",
        "colab": {
          "base_uri": "https://localhost:8080/",
          "height": 119
        },
        "outputId": "a5e0ff5d-29d2-4aa5-cdfd-8c0be466d95c"
      },
      "source": [
        "Y_train.head()"
      ],
      "execution_count": 21,
      "outputs": [
        {
          "output_type": "execute_result",
          "data": {
            "text/plain": [
              "220    1\n",
              "71     1\n",
              "240    1\n",
              "6      0\n",
              "417    1\n",
              "Name: Start_Tech_Oscar, dtype: int64"
            ]
          },
          "metadata": {
            "tags": []
          },
          "execution_count": 21
        }
      ]
    },
    {
      "cell_type": "code",
      "metadata": {
        "id": "5mIJwnKH8R58",
        "colab_type": "code",
        "colab": {
          "base_uri": "https://localhost:8080/",
          "height": 34
        },
        "outputId": "ab5e7ca6-a165-4bd0-be5a-488f4f38c5fe"
      },
      "source": [
        "X_test.shape"
      ],
      "execution_count": 22,
      "outputs": [
        {
          "output_type": "execute_result",
          "data": {
            "text/plain": [
              "(102, 20)"
            ]
          },
          "metadata": {
            "tags": []
          },
          "execution_count": 22
        }
      ]
    },
    {
      "cell_type": "markdown",
      "metadata": {
        "id": "SbgmBbI39WVq",
        "colab_type": "text"
      },
      "source": [
        "Training Classification Tree"
      ]
    },
    {
      "cell_type": "code",
      "metadata": {
        "id": "oZTcmb1V8Zwe",
        "colab_type": "code",
        "colab": {}
      },
      "source": [
        "from sklearn import tree"
      ],
      "execution_count": 23,
      "outputs": []
    },
    {
      "cell_type": "code",
      "metadata": {
        "id": "9SAab2ci9tN1",
        "colab_type": "code",
        "colab": {}
      },
      "source": [
        "clftree = tree.DecisionTreeClassifier(max_depth=3)"
      ],
      "execution_count": 24,
      "outputs": []
    },
    {
      "cell_type": "code",
      "metadata": {
        "id": "LtfHYIL892IP",
        "colab_type": "code",
        "colab": {
          "base_uri": "https://localhost:8080/",
          "height": 119
        },
        "outputId": "840820b6-3607-4afe-fe86-05105245971d"
      },
      "source": [
        "clftree.fit(X_train,Y_train)"
      ],
      "execution_count": 25,
      "outputs": [
        {
          "output_type": "execute_result",
          "data": {
            "text/plain": [
              "DecisionTreeClassifier(ccp_alpha=0.0, class_weight=None, criterion='gini',\n",
              "                       max_depth=3, max_features=None, max_leaf_nodes=None,\n",
              "                       min_impurity_decrease=0.0, min_impurity_split=None,\n",
              "                       min_samples_leaf=1, min_samples_split=2,\n",
              "                       min_weight_fraction_leaf=0.0, presort='deprecated',\n",
              "                       random_state=None, splitter='best')"
            ]
          },
          "metadata": {
            "tags": []
          },
          "execution_count": 25
        }
      ]
    },
    {
      "cell_type": "markdown",
      "metadata": {
        "id": "yiQtPqXN-G1L",
        "colab_type": "text"
      },
      "source": [
        "Predict Values using trained Model"
      ]
    },
    {
      "cell_type": "code",
      "metadata": {
        "id": "j78SoGGN99xE",
        "colab_type": "code",
        "colab": {}
      },
      "source": [
        "Y_train_pred = clftree.predict(X_train)\n",
        "Y_test_pred = clftree.predict(X_test)"
      ],
      "execution_count": 26,
      "outputs": []
    },
    {
      "cell_type": "code",
      "metadata": {
        "id": "GHIwHo1b-eee",
        "colab_type": "code",
        "colab": {
          "base_uri": "https://localhost:8080/",
          "height": 102
        },
        "outputId": "d3880bbb-ddf2-41c7-f203-6da4605f10c5"
      },
      "source": [
        "Y_test_pred"
      ],
      "execution_count": 27,
      "outputs": [
        {
          "output_type": "execute_result",
          "data": {
            "text/plain": [
              "array([0, 1, 0, 1, 0, 0, 0, 0, 1, 0, 0, 0, 0, 1, 1, 0, 0, 1, 0, 0, 0, 0,\n",
              "       0, 0, 0, 1, 0, 0, 1, 0, 0, 0, 0, 0, 0, 0, 0, 1, 0, 0, 0, 0, 0, 1,\n",
              "       0, 0, 0, 0, 1, 0, 0, 0, 0, 1, 0, 0, 0, 1, 0, 0, 1, 0, 1, 0, 0, 0,\n",
              "       0, 0, 0, 0, 0, 0, 0, 0, 0, 1, 1, 0, 0, 0, 0, 0, 0, 1, 1, 0, 0, 0,\n",
              "       0, 0, 0, 0, 1, 0, 0, 0, 1, 1, 0, 0, 0, 0])"
            ]
          },
          "metadata": {
            "tags": []
          },
          "execution_count": 27
        }
      ]
    },
    {
      "cell_type": "markdown",
      "metadata": {
        "id": "PfkZsMXy_UFA",
        "colab_type": "text"
      },
      "source": [
        "Model Performance"
      ]
    },
    {
      "cell_type": "code",
      "metadata": {
        "id": "ljpjZ_yj-h6Y",
        "colab_type": "code",
        "colab": {}
      },
      "source": [
        "from sklearn.metrics import accuracy_score,confusion_matrix"
      ],
      "execution_count": 28,
      "outputs": []
    },
    {
      "cell_type": "code",
      "metadata": {
        "id": "sYwpXY7J_dfv",
        "colab_type": "code",
        "colab": {
          "base_uri": "https://localhost:8080/",
          "height": 51
        },
        "outputId": "9b1e7a90-9db8-460e-c56d-126e6605d46e"
      },
      "source": [
        "confusion_matrix(Y_train,Y_train_pred)"
      ],
      "execution_count": 29,
      "outputs": [
        {
          "output_type": "execute_result",
          "data": {
            "text/plain": [
              "array([[172,  14],\n",
              "       [126,  92]])"
            ]
          },
          "metadata": {
            "tags": []
          },
          "execution_count": 29
        }
      ]
    },
    {
      "cell_type": "code",
      "metadata": {
        "id": "5zH7V-BT_jtw",
        "colab_type": "code",
        "colab": {
          "base_uri": "https://localhost:8080/",
          "height": 51
        },
        "outputId": "2579687c-5628-4942-c59f-37d4aa29d7c9"
      },
      "source": [
        "confusion_matrix(Y_test,Y_test_pred)"
      ],
      "execution_count": 30,
      "outputs": [
        {
          "output_type": "execute_result",
          "data": {
            "text/plain": [
              "array([[39,  5],\n",
              "       [41, 17]])"
            ]
          },
          "metadata": {
            "tags": []
          },
          "execution_count": 30
        }
      ]
    },
    {
      "cell_type": "code",
      "metadata": {
        "id": "iWFK1HzFADTZ",
        "colab_type": "code",
        "colab": {
          "base_uri": "https://localhost:8080/",
          "height": 34
        },
        "outputId": "2f6379ca-4904-46d7-8dec-a37a4a88cd56"
      },
      "source": [
        "accuracy_score(Y_test,Y_test_pred)"
      ],
      "execution_count": 31,
      "outputs": [
        {
          "output_type": "execute_result",
          "data": {
            "text/plain": [
              "0.5490196078431373"
            ]
          },
          "metadata": {
            "tags": []
          },
          "execution_count": 31
        }
      ]
    },
    {
      "cell_type": "markdown",
      "metadata": {
        "id": "_MTLpycQBP6x",
        "colab_type": "text"
      },
      "source": [
        "Plotting Decision Tree"
      ]
    },
    {
      "cell_type": "code",
      "metadata": {
        "id": "HnE5HhcmAJ6g",
        "colab_type": "code",
        "colab": {}
      },
      "source": [
        "dot_data = tree.export_graphviz(clftree,out_file=None,feature_names=X_train.columns,filled=True)"
      ],
      "execution_count": 32,
      "outputs": []
    },
    {
      "cell_type": "code",
      "metadata": {
        "id": "lhThg-XuBnAW",
        "colab_type": "code",
        "colab": {}
      },
      "source": [
        "from IPython.display import Image"
      ],
      "execution_count": 33,
      "outputs": []
    },
    {
      "cell_type": "code",
      "metadata": {
        "id": "xWcVDHKoBsMz",
        "colab_type": "code",
        "colab": {}
      },
      "source": [
        "import pydotplus"
      ],
      "execution_count": 34,
      "outputs": []
    },
    {
      "cell_type": "code",
      "metadata": {
        "id": "fWEHyzLYBytX",
        "colab_type": "code",
        "colab": {
          "base_uri": "https://localhost:8080/",
          "height": 382
        },
        "outputId": "70935385-15b4-4d79-ff58-af080fb49137"
      },
      "source": [
        "graph = pydotplus.graph_from_dot_data(dot_data)\n",
        "Image(graph.create_png())"
      ],
      "execution_count": 35,
      "outputs": [
        {
          "output_type": "execute_result",
          "data": {
            "image/png": "[encoded data removed]",
            "text/plain": [
              "<IPython.core.display.Image object>"
            ]
          },
          "metadata": {
            "tags": []
          },
          "execution_count": 35
        }
      ]
    },
    {
      "cell_type": "markdown",
      "metadata": {
        "id": "7Rb45wmMC3Y7",
        "colab_type": "text"
      },
      "source": [
        "Controlling Tree Growth"
      ]
    },
    {
      "cell_type": "code",
      "metadata": {
        "id": "WN2Wac2ZCB8p",
        "colab_type": "code",
        "colab": {
          "base_uri": "https://localhost:8080/",
          "height": 653
        },
        "outputId": "05c593a8-8f51-4eff-9a1b-c19d578c8d0c"
      },
      "source": [
        "clftree2 = tree.DecisionTreeClassifier(min_samples_leaf=20,max_depth=4)\n",
        "clftree2.fit(X_train,Y_train)\n",
        "dot_data = tree.export_graphviz(clftree2,out_file=None,feature_names=X_train.columns,filled=True)\n",
        "graph2 = pydotplus.graph_from_dot_data(dot_data)\n",
        "Image(graph2.create_png())"
      ],
      "execution_count": 36,
      "outputs": [
        {
          "output_type": "execute_result",
          "data": {
            "image/png": "[encoded data removed]",
            "text/plain": [
              "<IPython.core.display.Image object>"
            ]
          },
          "metadata": {
            "tags": []
          },
          "execution_count": 36
        }
      ]
    },
    {
      "cell_type": "code",
      "metadata": {
        "id": "ptEBe-uuDrQC",
        "colab_type": "code",
        "colab": {
          "base_uri": "https://localhost:8080/",
          "height": 34
        },
        "outputId": "3b7bbf5d-d782-4a1e-d9c7-7281092ee3b1"
      },
      "source": [
        "accuracy_score(Y_test,clftree2.predict(X_test))"
      ],
      "execution_count": 37,
      "outputs": [
        {
          "output_type": "execute_result",
          "data": {
            "text/plain": [
              "0.5588235294117647"
            ]
          },
          "metadata": {
            "tags": []
          },
          "execution_count": 37
        }
      ]
    },
    {
      "cell_type": "markdown",
      "metadata": {
        "id": "dN38f0_Z97A-",
        "colab_type": "text"
      },
      "source": [
        "Bagging Ensembly"
      ]
    },
    {
      "cell_type": "code",
      "metadata": {
        "id": "Kfajb-O5D4_t",
        "colab_type": "code",
        "colab": {}
      },
      "source": [
        "clftree3 = tree.DecisionTreeClassifier()"
      ],
      "execution_count": 38,
      "outputs": []
    },
    {
      "cell_type": "code",
      "metadata": {
        "id": "P2oJOJJJ718B",
        "colab_type": "code",
        "colab": {}
      },
      "source": [
        "from sklearn.ensemble import BaggingClassifier"
      ],
      "execution_count": 39,
      "outputs": []
    },
    {
      "cell_type": "code",
      "metadata": {
        "id": "2CjADAFX79ZO",
        "colab_type": "code",
        "colab": {}
      },
      "source": [
        "bag_clf = BaggingClassifier(base_estimator=clftree3,n_estimators=1000,bootstrap=True,n_jobs=-1,random_state=42)"
      ],
      "execution_count": 40,
      "outputs": []
    },
    {
      "cell_type": "code",
      "metadata": {
        "id": "U_291BXA8XVr",
        "colab_type": "code",
        "colab": {
          "base_uri": "https://localhost:8080/",
          "height": 323
        },
        "outputId": "0d150e5a-051e-4fe4-c05b-8424a786fbb1"
      },
      "source": [
        "bag_clf.fit(X_train,Y_train)"
      ],
      "execution_count": 41,
      "outputs": [
        {
          "output_type": "execute_result",
          "data": {
            "text/plain": [
              "BaggingClassifier(base_estimator=DecisionTreeClassifier(ccp_alpha=0.0,\n",
              "                                                        class_weight=None,\n",
              "                                                        criterion='gini',\n",
              "                                                        max_depth=None,\n",
              "                                                        max_features=None,\n",
              "                                                        max_leaf_nodes=None,\n",
              "                                                        min_impurity_decrease=0.0,\n",
              "                                                        min_impurity_split=None,\n",
              "                                                        min_samples_leaf=1,\n",
              "                                                        min_samples_split=2,\n",
              "                                                        min_weight_fraction_leaf=0.0,\n",
              "                                                        presort='deprecated',\n",
              "                                                        random_state=None,\n",
              "                                                        splitter='best'),\n",
              "                  bootstrap=True, bootstrap_features=False, max_features=1.0,\n",
              "                  max_samples=1.0, n_estimators=1000, n_jobs=-1,\n",
              "                  oob_score=False, random_state=42, verbose=0,\n",
              "                  warm_start=False)"
            ]
          },
          "metadata": {
            "tags": []
          },
          "execution_count": 41
        }
      ]
    },
    {
      "cell_type": "code",
      "metadata": {
        "id": "8GkU6XSh8gDy",
        "colab_type": "code",
        "colab": {
          "base_uri": "https://localhost:8080/",
          "height": 51
        },
        "outputId": "f4246d58-1245-42b5-e21e-1482a5af13c6"
      },
      "source": [
        "confusion_matrix(Y_test,bag_clf.predict(X_test))"
      ],
      "execution_count": 42,
      "outputs": [
        {
          "output_type": "execute_result",
          "data": {
            "text/plain": [
              "array([[28, 16],\n",
              "       [22, 36]])"
            ]
          },
          "metadata": {
            "tags": []
          },
          "execution_count": 42
        }
      ]
    },
    {
      "cell_type": "code",
      "metadata": {
        "id": "B5b5sa059F8B",
        "colab_type": "code",
        "colab": {
          "base_uri": "https://localhost:8080/",
          "height": 34
        },
        "outputId": "83b94214-d165-40f4-a5d4-541bde215d2f"
      },
      "source": [
        "accuracy_score(Y_test,bag_clf.predict(X_test))"
      ],
      "execution_count": 43,
      "outputs": [
        {
          "output_type": "execute_result",
          "data": {
            "text/plain": [
              "0.6274509803921569"
            ]
          },
          "metadata": {
            "tags": []
          },
          "execution_count": 43
        }
      ]
    },
    {
      "cell_type": "markdown",
      "metadata": {
        "id": "hLPTHJLn_XQK",
        "colab_type": "text"
      },
      "source": [
        "**Random Forest**"
      ]
    },
    {
      "cell_type": "code",
      "metadata": {
        "id": "JiiIwc1H9Qf_",
        "colab_type": "code",
        "colab": {}
      },
      "source": [
        "from sklearn.ensemble import RandomForestClassifier"
      ],
      "execution_count": 44,
      "outputs": []
    },
    {
      "cell_type": "code",
      "metadata": {
        "id": "TFfDaYXVAI8U",
        "colab_type": "code",
        "colab": {}
      },
      "source": [
        "rf_clf = RandomForestClassifier(n_estimators=1000,n_jobs=-1,random_state=42)"
      ],
      "execution_count": 45,
      "outputs": []
    },
    {
      "cell_type": "code",
      "metadata": {
        "id": "jWxLPvTqAWFv",
        "colab_type": "code",
        "colab": {
          "base_uri": "https://localhost:8080/",
          "height": 153
        },
        "outputId": "4f929eea-0101-47a9-e69d-4b0a7c7da9ac"
      },
      "source": [
        "rf_clf.fit(X_train,Y_train)"
      ],
      "execution_count": 46,
      "outputs": [
        {
          "output_type": "execute_result",
          "data": {
            "text/plain": [
              "RandomForestClassifier(bootstrap=True, ccp_alpha=0.0, class_weight=None,\n",
              "                       criterion='gini', max_depth=None, max_features='auto',\n",
              "                       max_leaf_nodes=None, max_samples=None,\n",
              "                       min_impurity_decrease=0.0, min_impurity_split=None,\n",
              "                       min_samples_leaf=1, min_samples_split=2,\n",
              "                       min_weight_fraction_leaf=0.0, n_estimators=1000,\n",
              "                       n_jobs=-1, oob_score=False, random_state=42, verbose=0,\n",
              "                       warm_start=False)"
            ]
          },
          "metadata": {
            "tags": []
          },
          "execution_count": 46
        }
      ]
    },
    {
      "cell_type": "code",
      "metadata": {
        "id": "a3sVqglTAnHw",
        "colab_type": "code",
        "colab": {
          "base_uri": "https://localhost:8080/",
          "height": 51
        },
        "outputId": "58097d0e-bef3-4494-ebc6-0f997fe89b3c"
      },
      "source": [
        "confusion_matrix(Y_test,rf_clf.predict(X_test))"
      ],
      "execution_count": 47,
      "outputs": [
        {
          "output_type": "execute_result",
          "data": {
            "text/plain": [
              "array([[25, 19],\n",
              "       [18, 40]])"
            ]
          },
          "metadata": {
            "tags": []
          },
          "execution_count": 47
        }
      ]
    },
    {
      "cell_type": "code",
      "metadata": {
        "id": "ZS616udcAyIN",
        "colab_type": "code",
        "colab": {
          "base_uri": "https://localhost:8080/",
          "height": 34
        },
        "outputId": "7465cce2-2bde-4ed9-a153-799b1a790386"
      },
      "source": [
        "accuracy_score(Y_test,rf_clf.predict(X_test))"
      ],
      "execution_count": 48,
      "outputs": [
        {
          "output_type": "execute_result",
          "data": {
            "text/plain": [
              "0.6372549019607843"
            ]
          },
          "metadata": {
            "tags": []
          },
          "execution_count": 48
        }
      ]
    },
    {
      "cell_type": "code",
      "metadata": {
        "id": "wlcBDmX4A2WX",
        "colab_type": "code",
        "colab": {}
      },
      "source": [
        ""
      ],
      "execution_count": null,
      "outputs": []
    }
  ]
}